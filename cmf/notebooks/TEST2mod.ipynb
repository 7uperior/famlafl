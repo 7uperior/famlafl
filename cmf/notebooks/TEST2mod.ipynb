{
 "cells": [
  {
   "cell_type": "code",
   "execution_count": 2,
   "id": "97f41d18-b069-47dd-9ce9-0b47aad937ba",
   "metadata": {},
   "outputs": [
    {
     "name": "stdout",
     "output_type": "stream",
     "text": [
      "Accuracy: 0.33\n",
      "Модель сохранена в файл catboost_model.cbm\n"
     ]
    }
   ],
   "source": [
    "import pandas as pd\n",
    "\n",
    "df1 = pd.DataFrame({\"ts\": range(15), \"data\": [1, 3, 6, 8, 9, 0, 3, 4, 65, 57, 643, 54, 78, 12, 654]})\n",
    "df2 = pd.DataFrame({\"ts\": range(15), \"data\": [32, 32, 3, 24, 124, 656, 757, 43, 323, 32, 90, 123, 434, 2, 5]})\n",
    "df3 = pd.DataFrame({\"ts\": range(15), \"data\": [323, 43, 5, 23, 6435, 23, 533, 232, 123, 5, 8, 3, 23, 64, 75]})\n",
    "df4 = pd.DataFrame({\"ts\": range(15), \"data\": range(15)})\n",
    "df5 = pd.DataFrame({\"ts\": range(15), \"data\": [15, 25, 23, 53, 5, 5353, 343, 535, 5, 34, 34, 75, 878, 3, 40]})\n",
    "target = pd.Series([0, 1, 1, 0, 0, 0, 0, 1, 0, 1, 0, 1, 1, 0, 1])\n",
    "\n",
    "import pandas as pd\n",
    "from catboost import CatBoostClassifier\n",
    "from sklearn.metrics import accuracy_score\n",
    "from sklearn.model_selection import train_test_split\n",
    "\n",
    "# 1. Объединение данных в один датафрейм\n",
    "df = pd.concat([df1[\"data\"], df2[\"data\"], df3[\"data\"], df4[\"data\"], df5[\"data\"]], axis=1)\n",
    "df.columns = [\"feature1\", \"feature2\", \"feature3\", \"feature4\", \"feature5\"]  # Переименуем столбцы\n",
    "\n",
    "# 2. Целевая переменная\n",
    "target = pd.Series([0, 1, 1, 0, 0, 0, 0, 1, 0, 1, 0, 1, 1, 0, 1])  # Ваша целевая переменная\n",
    "\n",
    "# 3. Разделение данных на обучающую и тестовую выборки\n",
    "X_train, X_test, y_train, y_test = train_test_split(df, target, test_size=0.2, random_state=42)\n",
    "\n",
    "# 4. Создание и обучение модели\n",
    "model = CatBoostClassifier(iterations=100, learning_rate=0.1, depth=4, verbose=0)  # Настройки модели\n",
    "model.fit(X_train, y_train)\n",
    "\n",
    "# 5. Оценка модели\n",
    "y_pred = model.predict(X_test)\n",
    "print(f\"Accuracy: {accuracy_score(y_test, y_pred):.2f}\")\n",
    "\n",
    "# 6. Сохранение модели\n",
    "model.save_model(\"TEST2model.cbm\")  # Сохранение в файл\n",
    "print(\"Модель сохранена в файл catboost_model.cbm\")"
   ]
  },
  {
   "cell_type": "code",
   "execution_count": null,
   "id": "2b1452a6-19c2-47f5-b644-05daff8dcc8c",
   "metadata": {},
   "outputs": [],
   "source": []
  }
 ],
 "metadata": {
  "kernelspec": {
   "display_name": "Python (venv)",
   "language": "python",
   "name": "venv"
  },
  "language_info": {
   "codemirror_mode": {
    "name": "ipython",
    "version": 3
   },
   "file_extension": ".py",
   "mimetype": "text/x-python",
   "name": "python",
   "nbconvert_exporter": "python",
   "pygments_lexer": "ipython3",
   "version": "3.12.0"
  }
 },
 "nbformat": 4,
 "nbformat_minor": 5
}
