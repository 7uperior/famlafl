{
 "cells": [
  {
   "cell_type": "code",
   "execution_count": 1,
   "metadata": {},
   "outputs": [],
   "source": [
    "from pathlib import Path\n",
    "\n",
    "BASE_DIR = Path.cwd().parent  # Moves up one level from the current notebook's directory\n",
    "\n"
   ]
  },
  {
   "cell_type": "code",
   "execution_count": 2,
   "metadata": {},
   "outputs": [
    {
     "name": "stdout",
     "output_type": "stream",
     "text": [
      "Загрузка agg_trades.parquet...\n",
      "Загрузка orderbook_embedding.parquet...\n",
      "Загрузка orderbook_solusdt.parquet...\n",
      "Загрузка target_data_solusdt.parquet...\n",
      "Загрузка target_solusdt.parquet...\n",
      "Конвертация индексов в datetime...\n",
      "Этап 1 завершён: данные загружены и оптимизированы.\n"
     ]
    }
   ],
   "source": [
    "# Этап 1: Загрузка данных с оптимизацией\n",
    "\n",
    "# Импорт необходимых библиотек\n",
    "import pandas as pd\n",
    "import numpy as np\n",
    "\n",
    "\n",
    "# Указываем путь к данным\n",
    "# DATA_DIR = \"./train\"  # Замените на ваш путь\n",
    "DATA_DIR = BASE_DIR / \"data/train\"\n",
    "\n",
    "# Функция для понижения типов данных\n",
    "def reduce_memory_usage(df):\n",
    "    for col in df.columns:\n",
    "        col_type = df[col].dtype\n",
    "\n",
    "        if col_type != object:\n",
    "            c_min = df[col].min()\n",
    "            c_max = df[col].max()\n",
    "            if str(col_type).startswith('int'):\n",
    "                if c_min > np.iinfo(np.int32).min and c_max < np.iinfo(np.int32).max:\n",
    "                    df[col] = df[col].astype(np.int32)\n",
    "            else:\n",
    "                df[col] = df[col].astype(np.float32)\n",
    "    return df\n",
    "\n",
    "# Загрузка данных\n",
    "\n",
    "## 1. agg_trades.parquet\n",
    "print(\"Загрузка agg_trades.parquet...\")\n",
    "agg_trades_columns = ['instrument', 'ask_amount', 'bid_amount']\n",
    "agg_trades = pd.read_parquet(f\"{DATA_DIR}/agg_trades.parquet\", columns=agg_trades_columns)\n",
    "agg_trades = reduce_memory_usage(agg_trades)\n",
    "\n",
    "## 2. orderbook_embedding.parquet\n",
    "print(\"Загрузка orderbook_embedding.parquet...\")\n",
    "orderbook_embedding_columns = ['instrument', 'mid_price']\n",
    "orderbook_embedding = pd.read_parquet(f\"{DATA_DIR}/orderbook_embedding.parquet\", columns=orderbook_embedding_columns)\n",
    "orderbook_embedding = reduce_memory_usage(orderbook_embedding)\n",
    "\n",
    "## 3. orderbook_solusdt.parquet\n",
    "print(\"Загрузка orderbook_solusdt.parquet...\")\n",
    "lobs_columns = ['asks[0].price', 'bids[0].price', 'asks[0].amount', 'bids[0].amount']\n",
    "lobs = pd.read_parquet(f\"{DATA_DIR}/orderbook_solusdt.parquet\", columns=lobs_columns)\n",
    "lobs = reduce_memory_usage(lobs)\n",
    "\n",
    "## 4. target_data_solusdt.parquet\n",
    "print(\"Загрузка target_data_solusdt.parquet...\")\n",
    "target_data_columns = ['price', 'side']\n",
    "target_data = pd.read_parquet(f\"{DATA_DIR}/target_data_solusdt.parquet\", columns=target_data_columns)\n",
    "target_data = reduce_memory_usage(target_data)\n",
    "\n",
    "## 5. target_solusdt.parquet\n",
    "print(\"Загрузка target_solusdt.parquet...\")\n",
    "target_columns = ['target']\n",
    "target = pd.read_parquet(f\"{DATA_DIR}/target_solusdt.parquet\", columns=target_columns)\n",
    "target = reduce_memory_usage(target)\n",
    "\n",
    "# Конвертируем индексы в datetime для согласования\n",
    "print(\"Конвертация индексов в datetime...\")\n",
    "for df in [agg_trades, orderbook_embedding, lobs, target_data, target]:\n",
    "    df.index = pd.to_datetime(df.index)\n",
    "\n",
    "print(\"Этап 1 завершён: данные загружены и оптимизированы.\")"
   ]
  },
  {
   "cell_type": "code",
   "execution_count": 3,
   "metadata": {},
   "outputs": [
    {
     "name": "stdout",
     "output_type": "stream",
     "text": [
      "Обработка lobs и вычисление признаков...\n"
     ]
    },
    {
     "name": "stdout",
     "output_type": "stream",
     "text": [
      "Признаки из lobs рассчитаны и сохранены.\n"
     ]
    }
   ],
   "source": [
    "# Шаг 1: Обработка lobs и вычисление признаков\n",
    "print(\"Обработка lobs и вычисление признаков...\")\n",
    "\n",
    "# Вычисляем mid_price\n",
    "lobs['mid_price'] = (lobs['asks[0].price'] + lobs['bids[0].price']) / 2\n",
    "\n",
    "# Вычисляем imbalance\n",
    "lobs['imbalance'] = (\n",
    "    (lobs['bids[0].amount'] - lobs['asks[0].amount']) /\n",
    "    (lobs['bids[0].amount'] + lobs['asks[0].amount'] + 1e-8)\n",
    ")\n",
    "\n",
    "# Сохраняем вычисленные признаки\n",
    "lobs_features = lobs[['mid_price', 'imbalance']]\n",
    "\n",
    "# Освобождаем память, удаляя ненужные столбцы\n",
    "lobs.drop(columns=['asks[0].price', 'bids[0].price', 'asks[0].amount', 'bids[0].amount'], inplace=True)\n",
    "\n",
    "# Сохраняем признаки в файл\n",
    "lobs_features.to_parquet('lobs_features.parquet')\n",
    "\n",
    "# Освобождаем память\n",
    "del lobs, lobs_features\n",
    "\n",
    "print(\"Признаки из lobs рассчитаны и сохранены.\")"
   ]
  },
  {
   "cell_type": "code",
   "execution_count": 4,
   "metadata": {},
   "outputs": [
    {
     "name": "stdout",
     "output_type": "stream",
     "text": [
      "Обработка agg_trades и вычисление признаков...\n",
      "Признаки из agg_trades рассчитаны и сохранены.\n"
     ]
    }
   ],
   "source": [
    "# Шаг 2: Обработка agg_trades и вычисление признаков\n",
    "print(\"Обработка agg_trades и вычисление признаков...\")\n",
    "\n",
    "# Фильтруем данные по инструменту SOLUSDT\n",
    "solusdt_agg_trades = agg_trades[agg_trades['instrument'] == 'SOLUSDT'].copy()\n",
    "\n",
    "# Сортируем индекс для корректной работы rolling\n",
    "solusdt_agg_trades.sort_index(inplace=True)\n",
    "\n",
    "# Вычисляем sells и buys\n",
    "sells = solusdt_agg_trades['ask_amount'].rolling(window=10, min_periods=1).sum()\n",
    "buys = solusdt_agg_trades['bid_amount'].rolling(window=10, min_periods=1).sum()\n",
    "\n",
    "# Вычисляем trades_ratio\n",
    "solusdt_agg_trades['trades_ratio'] = (sells - buys) / (sells + buys + 1e-8)\n",
    "\n",
    "# Сохраняем признак\n",
    "agg_trades_features = solusdt_agg_trades[['trades_ratio']]\n",
    "\n",
    "# Сохраняем признаки в файл\n",
    "agg_trades_features.to_parquet('agg_trades_features.parquet')\n",
    "\n",
    "# Освобождаем память\n",
    "del agg_trades, solusdt_agg_trades, sells, buys, agg_trades_features\n",
    "\n",
    "print(\"Признаки из agg_trades рассчитаны и сохранены.\")"
   ]
  },
  {
   "cell_type": "code",
   "execution_count": 5,
   "metadata": {},
   "outputs": [
    {
     "name": "stdout",
     "output_type": "stream",
     "text": [
      "Обработка orderbook_embedding и вычисление признаков...\n",
      "Признаки из orderbook_embedding рассчитаны и сохранены.\n"
     ]
    }
   ],
   "source": [
    "# Шаг 3: Обработка orderbook_embedding и вычисление признаков\n",
    "print(\"Обработка orderbook_embedding и вычисление признаков...\")\n",
    "\n",
    "# Извлекаем mid_price для BTCUSDT и ETHUSDT\n",
    "btcusdt_mid_price = orderbook_embedding[orderbook_embedding['instrument'] == 'BTCUSDT'][['mid_price']]\n",
    "ethusdt_mid_price = orderbook_embedding[orderbook_embedding['instrument'] == 'ETHUSDT'][['mid_price']]\n",
    "\n",
    "# Сохраняем их в отдельные файлы\n",
    "btcusdt_mid_price.to_parquet('btcusdt_mid_price.parquet')\n",
    "ethusdt_mid_price.to_parquet('ethusdt_mid_price.parquet')\n",
    "\n",
    "# Освобождаем память\n",
    "del orderbook_embedding, btcusdt_mid_price, ethusdt_mid_price\n",
    "\n",
    "print(\"Признаки из orderbook_embedding рассчитаны и сохранены.\")"
   ]
  },
  {
   "cell_type": "code",
   "execution_count": 7,
   "metadata": {},
   "outputs": [
    {
     "name": "stdout",
     "output_type": "stream",
     "text": [
      "Слияние признаков и подготовка данных для обучения...\n"
     ]
    },
    {
     "name": "stdout",
     "output_type": "stream",
     "text": [
      "Признаки объединены и готовы к обучению модели.\n"
     ]
    }
   ],
   "source": [
    "# Шаг 4: Слияние признаков и подготовка данных для обучения\n",
    "print(\"Слияние признаков и подготовка данных для обучения...\")\n",
    "\n",
    "# Загрузка ранее сохранённых признаков\n",
    "lobs_features = pd.read_parquet('lobs_features.parquet')\n",
    "agg_trades_features = pd.read_parquet('agg_trades_features.parquet')\n",
    "btcusdt_mid_price = pd.read_parquet('btcusdt_mid_price.parquet')\n",
    "ethusdt_mid_price = pd.read_parquet('ethusdt_mid_price.parquet')\n",
    "\n",
    "# Убедимся, что индексы имеют тип datetime\n",
    "for df in [lobs_features, agg_trades_features, btcusdt_mid_price, ethusdt_mid_price, target_data, target]:\n",
    "    df.index = pd.to_datetime(df.index)\n",
    "\n",
    "# Вычисляем main_btcusdt_dev и main_ethusdt_dev\n",
    "main_btcusdt_dev = (\n",
    "    lobs_features['mid_price'] / (btcusdt_mid_price['mid_price'].asof(lobs_features.index) + 1e-8)\n",
    ").asof(target_data.index) * target_data['side']\n",
    "main_btcusdt_dev.name = 'main_btcusdt_dev'\n",
    "\n",
    "main_ethusdt_dev = (\n",
    "    lobs_features['mid_price'] / (ethusdt_mid_price['mid_price'].asof(lobs_features.index) + 1e-8)\n",
    ").asof(target_data.index) * target_data['side']\n",
    "main_ethusdt_dev.name = 'main_ethusdt_dev'\n",
    "\n",
    "# Вычисляем distance_to_mid_price\n",
    "distance_to_mid_price = (\n",
    "    target_data['price'] / (lobs_features['mid_price'].asof(target_data.index) + 1e-8) - 1\n",
    ") * target_data['side']\n",
    "distance_to_mid_price.name = 'distance_to_mid_price'\n",
    "\n",
    "feature_imbalance = lobs_features['imbalance'].asof(target_data.index) * target_data['side']\n",
    "feature_imbalance.name = \"feature_imbalance\"\n",
    "\n",
    "feature_agg_trades_feature = agg_trades_features['trades_ratio'].asof(target_data.index) * target_data['side']\n",
    "feature_agg_trades_feature.name = \"feature_agg_trades_feature\"\n",
    "\n",
    "# Собираем все признаки\n",
    "features = pd.concat([\n",
    "    target_data['side'].rename(\"side\"),\n",
    "    feature_imbalance,\n",
    "    feature_agg_trades_feature,\n",
    "    distance_to_mid_price,\n",
    "    main_ethusdt_dev,\n",
    "    main_btcusdt_dev\n",
    "], axis=1)\n",
    "\n",
    "# Добавляем целевую переменную\n",
    "features['target'] = target['target'].reindex(features.index)\n",
    "\n",
    "# Удаляем пропущенные значения\n",
    "features.dropna(inplace=True)\n",
    "\n",
    "# Освобождаем память\n",
    "del lobs_features, agg_trades_features, btcusdt_mid_price, ethusdt_mid_price, target_data, target\n",
    "\n",
    "print(\"Признаки объединены и готовы к обучению модели.\")"
   ]
  },
  {
   "cell_type": "code",
   "execution_count": 8,
   "metadata": {},
   "outputs": [
    {
     "name": "stdout",
     "output_type": "stream",
     "text": [
      "Обучение модели...\n"
     ]
    },
    {
     "name": "stdout",
     "output_type": "stream",
     "text": [
      "0:\tlearn: 0.6908851\ttest: 0.6929076\tbest: 0.6929076 (0)\ttotal: 342ms\tremaining: 6m 50s\n",
      "50:\tlearn: 0.6848546\ttest: 0.6849733\tbest: 0.6849733 (50)\ttotal: 13.5s\tremaining: 5m 3s\n",
      "100:\tlearn: 0.6815194\ttest: 0.6816847\tbest: 0.6816847 (100)\ttotal: 26.7s\tremaining: 4m 50s\n",
      "150:\tlearn: 0.6801296\ttest: 0.6802114\tbest: 0.6802114 (150)\ttotal: 39.4s\tremaining: 4m 34s\n",
      "200:\tlearn: 0.6793861\ttest: 0.6794485\tbest: 0.6794485 (200)\ttotal: 52.2s\tremaining: 4m 19s\n",
      "250:\tlearn: 0.6788698\ttest: 0.6789939\tbest: 0.6789939 (250)\ttotal: 1m 5s\tremaining: 4m 5s\n",
      "300:\tlearn: 0.6786353\ttest: 0.6786726\tbest: 0.6786726 (300)\ttotal: 1m 18s\tremaining: 3m 53s\n",
      "350:\tlearn: 0.6782712\ttest: 0.6784140\tbest: 0.6784140 (350)\ttotal: 1m 31s\tremaining: 3m 40s\n",
      "400:\tlearn: 0.6780977\ttest: 0.6782081\tbest: 0.6782081 (400)\ttotal: 1m 44s\tremaining: 3m 28s\n",
      "450:\tlearn: 0.6779358\ttest: 0.6780413\tbest: 0.6780413 (450)\ttotal: 1m 57s\tremaining: 3m 15s\n",
      "500:\tlearn: 0.6777915\ttest: 0.6778949\tbest: 0.6778949 (500)\ttotal: 2m 10s\tremaining: 3m 1s\n",
      "550:\tlearn: 0.6776604\ttest: 0.6777598\tbest: 0.6777598 (550)\ttotal: 2m 23s\tremaining: 2m 48s\n",
      "600:\tlearn: 0.6775348\ttest: 0.6776392\tbest: 0.6776392 (600)\ttotal: 2m 35s\tremaining: 2m 35s\n",
      "650:\tlearn: 0.6774165\ttest: 0.6775251\tbest: 0.6775251 (650)\ttotal: 2m 48s\tremaining: 2m 22s\n",
      "700:\tlearn: 0.6773141\ttest: 0.6774235\tbest: 0.6774235 (700)\ttotal: 3m 1s\tremaining: 2m 9s\n",
      "750:\tlearn: 0.6772119\ttest: 0.6773228\tbest: 0.6773228 (750)\ttotal: 3m 14s\tremaining: 1m 56s\n",
      "800:\tlearn: 0.6771057\ttest: 0.6772270\tbest: 0.6772270 (800)\ttotal: 3m 27s\tremaining: 1m 43s\n",
      "850:\tlearn: 0.6770061\ttest: 0.6771289\tbest: 0.6771289 (850)\ttotal: 3m 40s\tremaining: 1m 30s\n",
      "900:\tlearn: 0.6769159\ttest: 0.6770443\tbest: 0.6770443 (900)\ttotal: 3m 53s\tremaining: 1m 17s\n",
      "950:\tlearn: 0.6768299\ttest: 0.6769617\tbest: 0.6769617 (950)\ttotal: 4m 7s\tremaining: 1m 4s\n",
      "1000:\tlearn: 0.6767445\ttest: 0.6768802\tbest: 0.6768802 (1000)\ttotal: 4m 21s\tremaining: 52s\n",
      "1050:\tlearn: 0.6766616\ttest: 0.6767988\tbest: 0.6767988 (1050)\ttotal: 4m 35s\tremaining: 39.1s\n",
      "1100:\tlearn: 0.6765854\ttest: 0.6767217\tbest: 0.6767217 (1100)\ttotal: 4m 49s\tremaining: 26.1s\n",
      "1150:\tlearn: 0.6765098\ttest: 0.6766461\tbest: 0.6766461 (1150)\ttotal: 5m 3s\tremaining: 12.9s\n",
      "1199:\tlearn: 0.6764264\ttest: 0.6765648\tbest: 0.6765648 (1199)\ttotal: 5m 17s\tremaining: 0us\n",
      "\n",
      "bestTest = 0.6765647988\n",
      "bestIteration = 1199\n",
      "\n",
      "Модель обучена и сохранена в файл 'model_final.cbm'.\n"
     ]
    }
   ],
   "source": [
    "# Шаг 5: Обучение модели\n",
    "print(\"Обучение модели...\")\n",
    "\n",
    "from catboost import CatBoostClassifier\n",
    "from sklearn.model_selection import train_test_split\n",
    "\n",
    "# Разделение данных на признаки и целевую переменную\n",
    "X = features.drop(columns=['target'])\n",
    "y = features['target']\n",
    "\n",
    "# Освобождаем память, удаляя features, если она больше не нужна\n",
    "del features\n",
    "\n",
    "# Разделение данных на обучающую и тестовую выборки\n",
    "X_train, X_test, y_train, y_test = train_test_split(\n",
    "    X, y, test_size=0.2, random_state=42\n",
    ")\n",
    "\n",
    "# Освобождаем память, удаляя X и y\n",
    "del X, y\n",
    "\n",
    "# Инициализация и обучение модели CatBoostClassifier\n",
    "model = CatBoostClassifier(**{\n",
    "    'use_best_model': True,\n",
    "    'eval_metric': 'Logloss',\n",
    "    'verbose': 50,\n",
    "    'iterations': 1200,\n",
    "    'thread_count': 5,\n",
    "    'loss_function': 'Logloss',\n",
    "    'l2_leaf_reg': 50,\n",
    "    'task_type': 'CPU',\n",
    "    'depth': 5,\n",
    "    'learning_rate': 0.01\n",
    "})\n",
    "\n",
    "# Обучение модели\n",
    "model.fit(\n",
    "    X_train, y_train,\n",
    "    eval_set=(X_test, y_test),\n",
    "    use_best_model=True\n",
    ")\n",
    "\n",
    "# Сохранение обученной модели в файл .cbm\n",
    "model.save_model(\"model_final.cbm\", format=\"cbm\")\n",
    "\n",
    "# Освобождение памяти\n",
    "del X_train, X_test, y_train, y_test, model\n",
    "\n",
    "print(\"Модель обучена и сохранена в файл 'model_final.cbm'.\")"
   ]
  },
  {
   "cell_type": "code",
   "execution_count": null,
   "metadata": {},
   "outputs": [],
   "source": []
  }
 ],
 "metadata": {
  "kernelspec": {
   "display_name": "timeseries-forecaster-klrvJbV1-py3.12",
   "language": "python",
   "name": "python3"
  },
  "language_info": {
   "codemirror_mode": {
    "name": "ipython",
    "version": 3
   },
   "file_extension": ".py",
   "mimetype": "text/x-python",
   "name": "python",
   "nbconvert_exporter": "python",
   "pygments_lexer": "ipython3",
   "version": "3.12.0"
  }
 },
 "nbformat": 4,
 "nbformat_minor": 4
}
